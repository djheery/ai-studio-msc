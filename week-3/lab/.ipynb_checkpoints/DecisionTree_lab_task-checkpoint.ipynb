{
 "cells": [
  {
   "cell_type": "markdown",
   "metadata": {
    "id": "rQ5gZlWLvgkn"
   },
   "source": [
    "## Install Packages"
   ]
  },
  {
   "cell_type": "code",
   "execution_count": 1,
   "metadata": {
    "colab": {
     "base_uri": "https://localhost:8080/"
    },
    "id": "tGfkQ5f24sGa",
    "outputId": "cdb47622-077c-4115-a292-9ceb865dc499"
   },
   "outputs": [
    {
     "name": "stdout",
     "output_type": "stream",
     "text": [
      "Requirement already satisfied: graphviz in c:\\users\\shanf\\anaconda3\\envs\\pe7047_env\\lib\\site-packages (0.16)\n",
      "Requirement already satisfied: pydotplus in c:\\users\\shanf\\anaconda3\\envs\\pe7047_env\\lib\\site-packages (2.0.2)\n",
      "Requirement already satisfied: pyparsing>=2.0.1 in c:\\users\\shanf\\anaconda3\\envs\\pe7047_env\\lib\\site-packages (from pydotplus) (2.4.7)\n",
      "Requirement already satisfied: sklearn in c:\\users\\shanf\\anaconda3\\envs\\pe7047_env\\lib\\site-packages (0.0)\n",
      "Requirement already satisfied: scikit-learn in c:\\users\\shanf\\anaconda3\\envs\\pe7047_env\\lib\\site-packages (from sklearn) (0.23.2)\n",
      "Requirement already satisfied: numpy>=1.13.3 in c:\\users\\shanf\\anaconda3\\envs\\pe7047_env\\lib\\site-packages (from scikit-learn->sklearn) (1.19.1)\n",
      "Requirement already satisfied: scipy>=0.19.1 in c:\\users\\shanf\\anaconda3\\envs\\pe7047_env\\lib\\site-packages (from scikit-learn->sklearn) (1.5.2)\n",
      "Requirement already satisfied: threadpoolctl>=2.0.0 in c:\\users\\shanf\\anaconda3\\envs\\pe7047_env\\lib\\site-packages (from scikit-learn->sklearn) (2.1.0)\n",
      "Requirement already satisfied: joblib>=0.11 in c:\\users\\shanf\\anaconda3\\envs\\pe7047_env\\lib\\site-packages (from scikit-learn->sklearn) (0.17.0)\n",
      "Requirement already satisfied: pydot in c:\\users\\shanf\\anaconda3\\envs\\pe7047_env\\lib\\site-packages (1.4.2)\n",
      "Requirement already satisfied: pyparsing>=2.1.4 in c:\\users\\shanf\\anaconda3\\envs\\pe7047_env\\lib\\site-packages (from pydot) (2.4.7)\n",
      "Requirement already satisfied: pandas in c:\\users\\shanf\\anaconda3\\envs\\pe7047_env\\lib\\site-packages (1.1.3)\n",
      "Requirement already satisfied: python-dateutil>=2.7.3 in c:\\users\\shanf\\anaconda3\\envs\\pe7047_env\\lib\\site-packages (from pandas) (2.8.1)\n",
      "Requirement already satisfied: pytz>=2017.2 in c:\\users\\shanf\\anaconda3\\envs\\pe7047_env\\lib\\site-packages (from pandas) (2020.1)\n",
      "Requirement already satisfied: numpy>=1.15.4 in c:\\users\\shanf\\anaconda3\\envs\\pe7047_env\\lib\\site-packages (from pandas) (1.19.1)\n",
      "Requirement already satisfied: six>=1.5 in c:\\users\\shanf\\anaconda3\\envs\\pe7047_env\\lib\\site-packages (from python-dateutil>=2.7.3->pandas) (1.15.0)\n"
     ]
    }
   ],
   "source": [
    "# This is for Google Colab\n",
    "!sudo apt-get install graphviz\n",
    "!pip install graphviz\n",
    "!pip install pydotplus\n",
    "!pip install sklearn\n",
    "!pip install pydot\n",
    "!pip install pandas"
   ]
  },
  {
   "cell_type": "markdown",
   "metadata": {
    "id": "aEHdYffUvx-I"
   },
   "source": [
    "## Import Libraries"
   ]
  },
  {
   "cell_type": "code",
   "execution_count": 2,
   "metadata": {
    "id": "6CiTyq6o49J7"
   },
   "outputs": [],
   "source": [
    "import pydotplus\n",
    "import pandas as pd\n",
    "import numpy as np\n",
    "from sklearn import tree\n",
    "from io import StringIO\n",
    "import pydot\n",
    "import matplotlib.pyplot as plt\n",
    "from sklearn.model_selection import train_test_split\n",
    "from sklearn.tree import DecisionTreeClassifier\n",
    "from sklearn.metrics import classification_report\n",
    "from sklearn.metrics import plot_confusion_matrix\n",
    "%matplotlib inline"
   ]
  },
  {
   "cell_type": "markdown",
   "metadata": {
    "id": "c1preS-O5zmr"
   },
   "source": [
    "## Import Real Dataset"
   ]
  },
  {
   "cell_type": "code",
   "execution_count": 5,
   "metadata": {
    "id": "J45Cxc4I6_ME"
   },
   "outputs": [],
   "source": [
    "# Question: Load the csv dataset (source: https://archive.ics.uci.edu/ml/datasets/Haberman%27s+Survival)\n",
    "# TODO"
   ]
  },
  {
   "cell_type": "code",
   "execution_count": 6,
   "metadata": {
    "id": "9dlbQ_TU7IWs"
   },
   "outputs": [],
   "source": [
    "# Question: Split the dataset into the training and test sets, 75% for training and 25% for testing\n",
    "# TODO"
   ]
  },
  {
   "cell_type": "markdown",
   "metadata": {
    "id": "Wm5-b3oP7PYv"
   },
   "source": [
    "## Fit Decision Tree"
   ]
  },
  {
   "cell_type": "code",
   "execution_count": 7,
   "metadata": {
    "colab": {
     "base_uri": "https://localhost:8080/",
     "height": 119
    },
    "id": "sVpZ23tT7T5B",
    "outputId": "5282d8a4-a4ad-4415-d915-66265b514986"
   },
   "outputs": [],
   "source": [
    "# Question: Fit a decision tree model on the training set, try to adjust the max_depth to compare trees and performance\n",
    "# TODO\n",
    "\n",
    "# Visualize the tree structure\n",
    "# from IPython.display import Image\n",
    "# out_file = tree.export_graphviz(\n",
    "#         trained_model,\n",
    "#         feature_names = ['Age_at_operation', 'Year_of_operation', 'Positive_nodes_detected'],\n",
    "#         class_names = ['Survived', 'Did_not_survive'],\n",
    "#         filled = True,\n",
    "#         rounded = True\n",
    "# )\n",
    "# graph = pydotplus.graph_from_dot_data(out_file)\n",
    "# Image(graph.create_png())"
   ]
  },
  {
   "cell_type": "markdown",
   "metadata": {
    "id": "nmCX8FeQ7ZGP"
   },
   "source": [
    "## Compute Performance"
   ]
  },
  {
   "cell_type": "code",
   "execution_count": 8,
   "metadata": {
    "colab": {
     "base_uri": "https://localhost:8080/",
     "height": 51
    },
    "id": "5i57Sxri7dCt",
    "outputId": "196c9bd3-f574-41ee-c86c-54b8c0487218"
   },
   "outputs": [],
   "source": [
    "# Make predictions on the test data points\n",
    "# y_pred = trained_model.predict(X_test)\n",
    "\n",
    "# Print the classification report\n",
    "# print(classification_report(y_test, y_pred, target_names=['Survived', 'Did_not_survive']))\n",
    "\n",
    "# Print the confusion matrix\n",
    "# plot_confusion_matrix(trained_model, X_test, y_test, display_labels=['Survived', 'Did_not_survive'])\n",
    "# plt.show()"
   ]
  },
  {
   "cell_type": "code",
   "execution_count": null,
   "metadata": {},
   "outputs": [],
   "source": []
  }
 ],
 "metadata": {
  "colab": {
   "collapsed_sections": [],
   "name": "DecisionTree_step_by_step.ipynb",
   "provenance": []
  },
  "kernelspec": {
   "display_name": "Python 3 (ipykernel)",
   "language": "python",
   "name": "python3"
  },
  "language_info": {
   "codemirror_mode": {
    "name": "ipython",
    "version": 3
   },
   "file_extension": ".py",
   "mimetype": "text/x-python",
   "name": "python",
   "nbconvert_exporter": "python",
   "pygments_lexer": "ipython3",
   "version": "3.7.13"
  }
 },
 "nbformat": 4,
 "nbformat_minor": 1
}
