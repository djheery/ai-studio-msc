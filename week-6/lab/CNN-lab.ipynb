{
 "cells": [
  {
   "cell_type": "code",
   "execution_count": 1,
   "id": "226d910e",
   "metadata": {},
   "outputs": [
    {
     "name": "stdout",
     "output_type": "stream",
     "text": [
      "x_train shape:  (50000, 32, 32, 3)\n"
     ]
    }
   ],
   "source": [
    "import keras\n",
    "from keras.datasets import cifar10\n",
    "(x_train, y_train), (x_test, y_test) = cifar10.load_data()\n",
    "import matplotlib.pyplot as plt \n",
    "%matplotlib inline\n",
    "\n",
    "print('x_train shape: ', x_train.shape)\n",
    "\n",
    "# Output = x_train shape: (5000, 32, 32, 3)\n",
    "# This means: \n",
    "# - 5000 images\n",
    "# - 32x32 (height/width) dimensional images\n",
    "# - 3 pixels in depth (corresponding to RGB)"
   ]
  },
  {
   "cell_type": "code",
   "execution_count": 2,
   "id": "10caf253",
   "metadata": {
    "scrolled": true
   },
   "outputs": [
    {
     "name": "stdout",
     "output_type": "stream",
     "text": [
      "y_train shape:  (50000, 1)\n"
     ]
    }
   ],
   "source": [
    "print('y_train shape: ', y_train.shape)\n",
    "\n",
    "# Output: y_train shape: (5000, 1)\n",
    "\n",
    "# That means there is one number (corresponding to the label) for each of the 5000 images "
   ]
  },
  {
   "cell_type": "code",
   "execution_count": 3,
   "id": "f71e49ca",
   "metadata": {},
   "outputs": [
    {
     "name": "stdout",
     "output_type": "stream",
     "text": [
      "[[[ 59  62  63]\n",
      "  [ 43  46  45]\n",
      "  [ 50  48  43]\n",
      "  ...\n",
      "  [158 132 108]\n",
      "  [152 125 102]\n",
      "  [148 124 103]]\n",
      "\n",
      " [[ 16  20  20]\n",
      "  [  0   0   0]\n",
      "  [ 18   8   0]\n",
      "  ...\n",
      "  [123  88  55]\n",
      "  [119  83  50]\n",
      "  [122  87  57]]\n",
      "\n",
      " [[ 25  24  21]\n",
      "  [ 16   7   0]\n",
      "  [ 49  27   8]\n",
      "  ...\n",
      "  [118  84  50]\n",
      "  [120  84  50]\n",
      "  [109  73  42]]\n",
      "\n",
      " ...\n",
      "\n",
      " [[208 170  96]\n",
      "  [201 153  34]\n",
      "  [198 161  26]\n",
      "  ...\n",
      "  [160 133  70]\n",
      "  [ 56  31   7]\n",
      "  [ 53  34  20]]\n",
      "\n",
      " [[180 139  96]\n",
      "  [173 123  42]\n",
      "  [186 144  30]\n",
      "  ...\n",
      "  [184 148  94]\n",
      "  [ 97  62  34]\n",
      "  [ 83  53  34]]\n",
      "\n",
      " [[177 144 116]\n",
      "  [168 129  94]\n",
      "  [179 142  87]\n",
      "  ...\n",
      "  [216 184 140]\n",
      "  [151 118  84]\n",
      "  [123  92  72]]]\n"
     ]
    }
   ],
   "source": [
    "print(x_train[0])\n",
    "\n",
    "# The output is the pixel numbers within the image \n"
   ]
  },
  {
   "cell_type": "code",
   "execution_count": 4,
   "id": "386895ce",
   "metadata": {},
   "outputs": [
    {
     "data": {
      "image/png": "[encoded data removed]",
      "text/plain": [
       "<Figure size 640x480 with 1 Axes>"
      ]
     },
     "metadata": {},
     "output_type": "display_data"
    }
   ],
   "source": [
    "# %matplotlibb inline tells the notebbook that you wish for the image to display within the image. \n",
    "# img.plt.imshow is a function that displays the numbered pixel values x_train[0] to the actual image it represents. \n",
    "\n",
    "# The code for showing the image:\n",
    "img = plt.imshow(x_train[0])\n",
    "\n",
    "# The image is pixilated because it's been enlarged as its a 32x32 image.\n"
   ]
  },
  {
   "cell_type": "code",
   "execution_count": 5,
   "id": "07f2a6eb",
   "metadata": {},
   "outputs": [
    {
     "name": "stdout",
     "output_type": "stream",
     "text": [
      "The label is:  [6]\n"
     ]
    }
   ],
   "source": [
    "# Working out what the label of the above image is: \n",
    "\n",
    "print('The label is: ', y_train[0])\n",
    "\n",
    "# You can repeat the process above to see the different labels and images for the data\n",
    "# In the lab there is a table that shows that 6 = a frog \n",
    "\n",
    "# The numbering is as follows: \n",
    "\n",
    "# 0 - Airplane \n",
    "# 1 - Automobile \n",
    "# 2 - bird\n",
    "# 3 - cat\n",
    "# 4 - deer\n",
    "# 5 - dog\n",
    "# 6 - frog \n",
    "# 7 - horse \n",
    "# 8 - ship \n",
    "# 9 - truck "
   ]
  },
  {
   "cell_type": "code",
   "execution_count": 6,
   "id": "19fa9773",
   "metadata": {},
   "outputs": [],
   "source": [
    "# We need the labels to be ordered in some way.\n",
    "# Lecture example: \n",
    "\n",
    "# If the network can't decide if the given image is a truck or airplane should we take \n",
    "# halfway point and predict it as a dog? Short answer, NO. \n",
    "\n",
    "# What we need is the probability of each of the 10 different classes. For that, we need 10 output neurons \n",
    "# in our network. One for each label \n",
    "\n",
    "# To do this, we convert the label into a set of 10 numbers where each number\n",
    "# represents if the image bbelongs to a certain class or not.\n",
    "# If an image belongs to the first class, the first number of this set will be a 1 and all other numbers set\n",
    "# to 0.\n",
    "\n",
    "# This process is called a \"One Hot Encoding\"\n",
    "# There is an example of the conversion table in the lab task"
   ]
  },
  {
   "cell_type": "code",
   "execution_count": 7,
   "id": "17205e37",
   "metadata": {},
   "outputs": [
    {
     "name": "stdout",
     "output_type": "stream",
     "text": [
      "The one hot label is:  [0. 0. 0. 0. 0. 0. 1. 0. 0. 0.]\n"
     ]
    }
   ],
   "source": [
    "# To do one-hot encoding on each label the code is as follows: \n",
    "y_train_one_hot = keras.utils.to_categorical(y_train, 10)\n",
    "y_test_one_hot = keras.utils.to_categorical(y_test, 10)\n",
    "\n",
    "# Testing the one-hot encoding:\n",
    "# It is expected that the 6th item will be a 1 and the rest 0 as it is an image of a frog \n",
    "print('The one hot label is: ', y_train_one_hot[0])"
   ]
  },
  {
   "cell_type": "code",
   "execution_count": 8,
   "id": "6f01e8d4",
   "metadata": {},
   "outputs": [
    {
     "name": "stdout",
     "output_type": "stream",
     "text": [
      "[[[0.23137255 0.24313726 0.24705882]\n",
      "  [0.16862746 0.18039216 0.1764706 ]\n",
      "  [0.19607843 0.1882353  0.16862746]\n",
      "  ...\n",
      "  [0.61960787 0.5176471  0.42352942]\n",
      "  [0.59607846 0.49019608 0.4       ]\n",
      "  [0.5803922  0.4862745  0.40392157]]\n",
      "\n",
      " [[0.0627451  0.07843138 0.07843138]\n",
      "  [0.         0.         0.        ]\n",
      "  [0.07058824 0.03137255 0.        ]\n",
      "  ...\n",
      "  [0.48235294 0.34509805 0.21568628]\n",
      "  [0.46666667 0.3254902  0.19607843]\n",
      "  [0.47843137 0.34117648 0.22352941]]\n",
      "\n",
      " [[0.09803922 0.09411765 0.08235294]\n",
      "  [0.0627451  0.02745098 0.        ]\n",
      "  [0.19215687 0.10588235 0.03137255]\n",
      "  ...\n",
      "  [0.4627451  0.32941177 0.19607843]\n",
      "  [0.47058824 0.32941177 0.19607843]\n",
      "  [0.42745098 0.28627452 0.16470589]]\n",
      "\n",
      " ...\n",
      "\n",
      " [[0.8156863  0.6666667  0.3764706 ]\n",
      "  [0.7882353  0.6        0.13333334]\n",
      "  [0.7764706  0.6313726  0.10196079]\n",
      "  ...\n",
      "  [0.627451   0.52156866 0.27450982]\n",
      "  [0.21960784 0.12156863 0.02745098]\n",
      "  [0.20784314 0.13333334 0.07843138]]\n",
      "\n",
      " [[0.7058824  0.54509807 0.3764706 ]\n",
      "  [0.6784314  0.48235294 0.16470589]\n",
      "  [0.7294118  0.5647059  0.11764706]\n",
      "  ...\n",
      "  [0.72156864 0.5803922  0.36862746]\n",
      "  [0.38039216 0.24313726 0.13333334]\n",
      "  [0.3254902  0.20784314 0.13333334]]\n",
      "\n",
      " [[0.69411767 0.5647059  0.45490196]\n",
      "  [0.65882355 0.5058824  0.36862746]\n",
      "  [0.7019608  0.5568628  0.34117648]\n",
      "  ...\n",
      "  [0.84705883 0.72156864 0.54901963]\n",
      "  [0.5921569  0.4627451  0.32941177]\n",
      "  [0.48235294 0.36078432 0.28235295]]]\n"
     ]
    }
   ],
   "source": [
    "# Processing our image (x)\n",
    "# A common step we do is to allow the values between 0 and 1, which will aid in the training of our NN\n",
    "# Since our pixel values already take the values between 0 and 255 we simply need to dived by 255\n",
    "\n",
    "# In practice, what we do is convert the type to 'float32'\n",
    "# float32 is a datatype that can store values with decimal points\n",
    "# We then divide each cell by 255.  \n",
    "x_train = x_train.astype('float32')\n",
    "x_test = x_test.astype('float32')\n",
    "x_train = x_train / 255\n",
    "x_test = x_test / 255 \n",
    "\n",
    "## The areay produced by first training image with processing applied: \n",
    "# The array values have been normalized between 0 and 1 which is computationally easier to handle\n",
    "print(x_train[0])\n",
    "\n"
   ]
  },
  {
   "cell_type": "code",
   "execution_count": 9,
   "id": "2c4e8c25",
   "metadata": {},
   "outputs": [
    {
     "data": {
      "text/plain": [
       "'\"\"\\nBUILDING AND TRAINING OUR CNN\\n'"
      ]
     },
     "execution_count": 9,
     "metadata": {},
     "output_type": "execute_result"
    }
   ],
   "source": [
    "\"\"\"\"\"\"\"\"\"\"\"\"\"\"\"\"\"\"\"\"\"\"\"\"\"\"\"\"\"\n",
    "BUILDING AND TRAINING OUR CNN\n",
    "\"\"\"\"\"\"\"\"\"\"\"\"\"\"\"\"\"\"\"\"\"\"\"\"\"\"\"\"\"\n",
    "\n",
    "# The last layer of a CNN is a softmax layer \n",
    "# A softmax layer transforms the output of the previous layer into probability distributions for \n",
    "# classification purposes.\n",
    "\n",
    "# For now, we will zero-pad our layer such that the output width and height will be the same \n",
    "# as the input width and height, we'll have to pad with a border of 1. \n",
    "# We will be applying 'same' padding for convolutional layers\n",
    "\n",
    "# Lastly we will use ReLU activation for all our layers except "
   ]
  },
  {
   "cell_type": "code",
   "execution_count": 10,
   "id": "da91a88b",
   "metadata": {},
   "outputs": [
    {
     "name": "stdout",
     "output_type": "stream",
     "text": [
      "Model: \"sequential\"\n",
      "_________________________________________________________________\n",
      " Layer (type)                Output Shape              Param #   \n",
      "=================================================================\n",
      " conv2d (Conv2D)             (None, 32, 32, 32)        896       \n",
      "                                                                 \n",
      " max_pooling2d (MaxPooling2D  (None, 16, 16, 32)       0         \n",
      " )                                                               \n",
      "                                                                 \n",
      " conv2d_1 (Conv2D)           (None, 16, 16, 32)        9248      \n",
      "                                                                 \n",
      " max_pooling2d_1 (MaxPooling  (None, 8, 8, 32)         0         \n",
      " 2D)                                                             \n",
      "                                                                 \n",
      " dropout (Dropout)           (None, 8, 8, 32)          0         \n",
      "                                                                 \n",
      " conv2d_2 (Conv2D)           (None, 8, 8, 64)          18496     \n",
      "                                                                 \n",
      " conv2d_3 (Conv2D)           (None, 8, 8, 128)         73856     \n",
      "                                                                 \n",
      " max_pooling2d_2 (MaxPooling  (None, 4, 4, 128)        0         \n",
      " 2D)                                                             \n",
      "                                                                 \n",
      " dropout_1 (Dropout)         (None, 4, 4, 128)         0         \n",
      "                                                                 \n",
      " flatten (Flatten)           (None, 2048)              0         \n",
      "                                                                 \n",
      " dense (Dense)               (None, 512)               1049088   \n",
      "                                                                 \n",
      " dropout_2 (Dropout)         (None, 512)               0         \n",
      "                                                                 \n",
      " dense_1 (Dense)             (None, 10)                5130      \n",
      "                                                                 \n",
      "=================================================================\n",
      "Total params: 1,156,714\n",
      "Trainable params: 1,156,714\n",
      "Non-trainable params: 0\n",
      "_________________________________________________________________\n"
     ]
    },
    {
     "name": "stderr",
     "output_type": "stream",
     "text": [
      "2022-11-05 16:51:51.607883: I tensorflow/core/platform/cpu_feature_guard.cc:193] This TensorFlow binary is optimized with oneAPI Deep Neural Network Library (oneDNN) to use the following CPU instructions in performance-critical operations:  SSE4.1 SSE4.2 AVX AVX2 FMA\n",
      "To enable them in other operations, rebuild TensorFlow with the appropriate compiler flags.\n",
      "2022-11-05 16:51:51.608323: I tensorflow/core/common_runtime/process_util.cc:146] Creating new thread pool with default inter op setting: 2. Tune using inter_op_parallelism_threads for best performance.\n"
     ]
    }
   ],
   "source": [
    "from keras.models import Sequential\n",
    "from keras.layers import Dense, Dropout, Flatten, Conv2D, MaxPooling2D\n",
    "\n",
    "# Parms for model.add()\n",
    "# filter=3x3, stride_size=1 (in both dimensions), depth=32, padding=same, activation = relu\n",
    "# The first layer needs an input size, subsequent layers do not due as they can infer this \n",
    "# from the first layer\n",
    "\n",
    "# Params for Max Pooling \n",
    "# Pool size - the dimensions of the pooling dividers (2x2) in this case \n",
    "# stride - Default is 2 and that is what we will use thus we do not need to specify \n",
    "\n",
    "# Dropout layer is the prevent overfitting \n",
    "# In outcase 2.5 !!DO MORE RESEARCH!!\n",
    "\n",
    "# Calling an empty Sequential Model\n",
    "model = Sequential()\n",
    "# Layer 1 (Convultional Layer)`\n",
    "model.add(Conv2D(32, (3, 3), activation='relu', padding='same', input_shape=(32, 32, 3)))\n",
    "model.add(MaxPooling2D(pool_size=(2, 2)))\n",
    "# Layer 2 (Convultional Layer)\n",
    "model.add(Conv2D(32, (3, 3), activation='relu', padding='same'))\n",
    "# Layer 3 (Max Pooling)\n",
    "model.add(MaxPooling2D(pool_size=(2, 2)))\n",
    "# Layer 4 (Dropout layer)\n",
    "model.add(Dropout(0.25))\n",
    "# Layer 5 - 8\n",
    "model.add(Conv2D(64, (3, 3), activation='relu', padding='same'))\n",
    "model.add(Conv2D(128, (3, 3), activation='relu', padding='same'))\n",
    "model.add(MaxPooling2D(pool_size=(2, 2)))\n",
    "model.add(Dropout(0.25))\n",
    "# Flatten the output to change the output from the previous layer \n",
    "# From a cube like structure to neurons in 1 row so it can be input to 1 layer \n",
    "model.add(Flatten())\n",
    "# Dense Layer\n",
    "model.add(Dense(512, activation='relu'))\n",
    "# Dropout \n",
    "model.add(Dropout(0.5))\n",
    "# Fully connected layer with 10 neurons as probbability distrubutions and a softax activation function \n",
    "model.add(Dense(10, activation='softmax'))\n",
    "\n",
    "# Print the architecture \n",
    "model.summary()\n",
    "          \n"
   ]
  },
  {
   "cell_type": "code",
   "execution_count": null,
   "id": "91e06dba",
   "metadata": {},
   "outputs": [
    {
     "name": "stdout",
     "output_type": "stream",
     "text": [
      "Epoch 1/20\n",
      "1250/1250 [==============================] - 87s 69ms/step - loss: 1.6941 - accuracy: 0.3710 - val_loss: 1.3087 - val_accuracy: 0.5227\n",
      "Epoch 2/20\n",
      "1250/1250 [==============================] - 93s 74ms/step - loss: 1.3231 - accuracy: 0.5245 - val_loss: 1.1031 - val_accuracy: 0.6057\n",
      "Epoch 3/20\n",
      "1250/1250 [==============================] - 91s 73ms/step - loss: 1.1680 - accuracy: 0.5816 - val_loss: 1.1064 - val_accuracy: 0.6066\n",
      "Epoch 4/20\n",
      "1250/1250 [==============================] - 86s 69ms/step - loss: 1.0651 - accuracy: 0.6217 - val_loss: 0.9197 - val_accuracy: 0.6741\n",
      "Epoch 5/20\n",
      "1250/1250 [==============================] - 97s 77ms/step - loss: 0.9890 - accuracy: 0.6518 - val_loss: 0.9056 - val_accuracy: 0.6835\n",
      "Epoch 6/20\n",
      "1250/1250 [==============================] - 91s 73ms/step - loss: 0.9380 - accuracy: 0.6718 - val_loss: 0.8454 - val_accuracy: 0.7033\n",
      "Epoch 7/20\n",
      "1250/1250 [==============================] - 85s 68ms/step - loss: 0.8997 - accuracy: 0.6820 - val_loss: 0.8302 - val_accuracy: 0.7109\n",
      "Epoch 8/20\n",
      "1250/1250 [==============================] - 78s 62ms/step - loss: 0.8616 - accuracy: 0.6992 - val_loss: 0.7846 - val_accuracy: 0.7317\n",
      "Epoch 9/20\n",
      "1250/1250 [==============================] - 95s 76ms/step - loss: 0.8279 - accuracy: 0.7101 - val_loss: 0.7940 - val_accuracy: 0.7241\n",
      "Epoch 10/20\n",
      "1250/1250 [==============================] - 82s 65ms/step - loss: 0.8084 - accuracy: 0.7164 - val_loss: 0.8014 - val_accuracy: 0.7281\n",
      "Epoch 11/20\n",
      "1250/1250 [==============================] - 75s 60ms/step - loss: 0.7802 - accuracy: 0.7268 - val_loss: 0.7815 - val_accuracy: 0.7269\n",
      "Epoch 12/20\n",
      "1250/1250 [==============================] - 76s 61ms/step - loss: 0.7522 - accuracy: 0.7338 - val_loss: 0.7419 - val_accuracy: 0.7469\n",
      "Epoch 13/20\n",
      "1250/1250 [==============================] - 86s 69ms/step - loss: 0.7418 - accuracy: 0.7393 - val_loss: 0.7842 - val_accuracy: 0.7351\n",
      "Epoch 14/20\n",
      "1250/1250 [==============================] - 90s 72ms/step - loss: 0.7199 - accuracy: 0.7473 - val_loss: 0.7519 - val_accuracy: 0.7396\n",
      "Epoch 15/20\n",
      "1250/1250 [==============================] - 87s 70ms/step - loss: 0.7114 - accuracy: 0.7492 - val_loss: 0.7275 - val_accuracy: 0.7445\n",
      "Epoch 16/20\n",
      "1250/1250 [==============================] - 87s 70ms/step - loss: 0.6869 - accuracy: 0.7587 - val_loss: 0.7141 - val_accuracy: 0.7581\n",
      "Epoch 17/20\n",
      " 258/1250 [=====>........................] - ETA: 1:04 - loss: 0.6816 - accuracy: 0.7602"
     ]
    }
   ],
   "source": [
    "# Copile the model made above: \n",
    "\n",
    "# - Categorical Cross entropy is applicable for a classification problem with many classes \n",
    "# - Optimizer is adam - Adam is simply a type of stochastic gradient descent (with modifications)\n",
    "# - metrics - we want to compute the \"accuracy of our model\"\n",
    "\n",
    "model.compile(loss='categorical_crossentropy', optimizer='adam', metrics=['accuracy'])\n",
    "\n",
    "\n",
    "\"\"\"\"\n",
    "Train our model with a batch size of 32\n",
    "30 epochs\n",
    "Validation test split of 0.2. This is a change to using validation_data and spliting our dataset manually as we did \n",
    "at the start\n",
    "\"\"\"\n",
    "\n",
    "hist = model.fit(x_train, y_train_one_hot, verbose=1, batch_size=32, epochs=20, validation_split=0.2)\n",
    "\n"
   ]
  },
  {
   "cell_type": "code",
   "execution_count": 60,
   "id": "890018fb",
   "metadata": {},
   "outputs": [
    {
     "data": {
      "image/png": "[encoded data removed]",
      "text/plain": [
       "<Figure size 640x480 with 1 Axes>"
      ]
     },
     "metadata": {},
     "output_type": "display_data"
    }
   ],
   "source": [
    "# Visualization of the Training Data \n",
    "\n",
    "# Loss\n",
    "plt.plot(hist.history['loss'])\n",
    "plt.plot(hist.history['val_loss'])\n",
    "plt.title('Model Loss')\n",
    "plt.ylabel('Loss')\n",
    "plt.xlabel('Epoch')\n",
    "plt.legend(['Train', \"Validation\"], loc='upper right')\n",
    "plt.show()"
   ]
  },
  {
   "cell_type": "code",
   "execution_count": 61,
   "id": "7a1ec846",
   "metadata": {},
   "outputs": [
    {
     "data": {
      "image/png": "[encoded data removed]",
      "text/plain": [
       "<Figure size 640x480 with 1 Axes>"
      ]
     },
     "metadata": {},
     "output_type": "display_data"
    }
   ],
   "source": [
    "# Plotting the Accuracy\n",
    "\n",
    "plt.plot(hist.history['accuracy'])\n",
    "plt.plot(hist.history['val_accuracy'])\n",
    "plt.title('Model Accuracy')\n",
    "plt.ylabel(\"Accuracy\")\n",
    "plt.xlabel(\"Epoch\")\n",
    "plt.legend(['Train', \"Validation\"], loc=\"lower right\")\n",
    "plt.show()"
   ]
  },
  {
   "cell_type": "code",
   "execution_count": 36,
   "id": "5c7f00dd",
   "metadata": {},
   "outputs": [
    {
     "name": "stdout",
     "output_type": "stream",
     "text": [
      "313/313 [==============================] - 5s 16ms/step - loss: 0.7653 - accuracy: 0.7663\n"
     ]
    },
    {
     "data": {
      "text/plain": [
       "0.7663000226020813"
      ]
     },
     "execution_count": 36,
     "metadata": {},
     "output_type": "execute_result"
    }
   ],
   "source": [
    "model.evaluate(x_test, y_test_one_hot)[1]"
   ]
  },
  {
   "cell_type": "code",
   "execution_count": null,
   "id": "13100c5f",
   "metadata": {},
   "outputs": [],
   "source": []
  },
  {
   "cell_type": "code",
   "execution_count": null,
   "id": "d209568f",
   "metadata": {},
   "outputs": [],
   "source": []
  }
 ],
 "metadata": {
  "kernelspec": {
   "display_name": "Python 3 (ipykernel)",
   "language": "python",
   "name": "python3"
  },
  "language_info": {
   "codemirror_mode": {
    "name": "ipython",
    "version": 3
   },
   "file_extension": ".py",
   "mimetype": "text/x-python",
   "name": "python",
   "nbconvert_exporter": "python",
   "pygments_lexer": "ipython3",
   "version": "3.7.13"
  }
 },
 "nbformat": 4,
 "nbformat_minor": 5
}
