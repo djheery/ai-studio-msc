{
 "cells": [
  {
   "cell_type": "code",
   "execution_count": 2,
   "id": "2465b151",
   "metadata": {},
   "outputs": [
    {
     "name": "stdout",
     "output_type": "stream",
     "text": [
      "Series([], dtype: float64)\n",
      "0    g\n",
      "1    e\n",
      "2    e\n",
      "3    k\n",
      "4    s\n",
      "dtype: object\n"
     ]
    },
    {
     "name": "stderr",
     "output_type": "stream",
     "text": [
      "/home/danielheery/anaconda3/envs/AI-Studio/lib/python3.7/site-packages/ipykernel_launcher.py:7: DeprecationWarning: The default dtype for empty Series will be 'object' instead of 'float64' in a future version. Specify a dtype explicitly to silence this warning.\n",
      "  import sys\n"
     ]
    }
   ],
   "source": [
    "# Pandas Introduction\n",
    "\n",
    "import pandas as pd\n",
    "import numpy as np\n",
    "\n",
    "# Series = 1 colum of a dataframe? \n",
    "ser = pd.Series()\n",
    "\n",
    "print(ser)\n",
    "\n",
    "data = np.array(['g', 'e', 'e', 'k', 's'])\n",
    "ser = pd.Series(data)\n",
    "\n",
    "print(ser)\n",
    "\n"
   ]
  },
  {
   "cell_type": "code",
   "execution_count": 3,
   "id": "fb498f03",
   "metadata": {},
   "outputs": [
    {
     "name": "stdout",
     "output_type": "stream",
     "text": [
      "Empty DataFrame\n",
      "Columns: []\n",
      "Index: []\n",
      "          0\n",
      "0     Geeks\n",
      "1       For\n",
      "2     Geeks\n",
      "3        is\n",
      "4    Portal\n",
      "5  forgeeks\n"
     ]
    }
   ],
   "source": [
    "# Dataframes in Pandas \n",
    "\n",
    "import pandas as pd \n",
    "\n",
    "df = pd.DataFrame()\n",
    "print(df)\n",
    "\n",
    "string_list = [\n",
    "                'Geeks',\n",
    "                'For',\n",
    "                'Geeks',\n",
    "                'is',\n",
    "                'Portal',\n",
    "                'for'\n",
    "                'geeks'\n",
    "              ]\n",
    "\n",
    "df = pd.DataFrame(string_list)\n",
    "print(df)"
   ]
  },
  {
   "cell_type": "code",
   "execution_count": 4,
   "id": "a174f974",
   "metadata": {},
   "outputs": [
    {
     "name": "stdout",
     "output_type": "stream",
     "text": [
      "                   A         B         C         D         E         F\n",
      "2020-01-01  1.047679 -1.621614 -0.526010 -0.090149 -1.249976  0.425722\n",
      "2020-01-02 -1.543058 -1.287060  0.261793  1.502441  2.283017 -0.906869\n",
      "2020-01-03 -0.299662 -1.053053  0.728890 -1.232102 -0.579199 -0.617069\n",
      "2020-01-04 -0.235423 -0.193338  1.027066 -1.302709  0.560686  1.310242\n",
      "2020-01-05  2.195978 -0.600494 -1.586323 -2.292996 -0.546839 -0.667242\n",
      "2020-01-06 -0.371357  0.396711  0.100775  0.361139 -0.089897  0.557251\n"
     ]
    }
   ],
   "source": [
    "import pandas as pd \n",
    "\n",
    "period_count = 6\n",
    "test_dates = pd.date_range(\"20200101\", periods=period_count)\n",
    "data_frame_headers = \"ABCDEF\"\n",
    "header_count = len(data_frame_headers)\n",
    "\n",
    "df = pd.DataFrame(np.random.randn(period_count, header_count), index=test_dates, columns=list(data_frame_headers))\n",
    "\n",
    "#print(test_dates)\n",
    "print(df)"
   ]
  },
  {
   "cell_type": "code",
   "execution_count": 5,
   "id": "21284a05",
   "metadata": {},
   "outputs": [
    {
     "data": {
      "text/html": [
       "<div>\n",
       "<style scoped>\n",
       "    .dataframe tbody tr th:only-of-type {\n",
       "        vertical-align: middle;\n",
       "    }\n",
       "\n",
       "    .dataframe tbody tr th {\n",
       "        vertical-align: top;\n",
       "    }\n",
       "\n",
       "    .dataframe thead th {\n",
       "        text-align: right;\n",
       "    }\n",
       "</style>\n",
       "<table border=\"1\" class=\"dataframe\">\n",
       "  <thead>\n",
       "    <tr style=\"text-align: right;\">\n",
       "      <th></th>\n",
       "      <th>is_hungry</th>\n",
       "      <th>last_ate</th>\n",
       "      <th>something</th>\n",
       "      <th>multiply_array</th>\n",
       "      <th>categories</th>\n",
       "      <th>foo</th>\n",
       "    </tr>\n",
       "  </thead>\n",
       "  <tbody>\n",
       "    <tr>\n",
       "      <th>0</th>\n",
       "      <td>True</td>\n",
       "      <td>2022-10-20</td>\n",
       "      <td>1</td>\n",
       "      <td>3.0</td>\n",
       "      <td>one</td>\n",
       "      <td>bar</td>\n",
       "    </tr>\n",
       "    <tr>\n",
       "      <th>1</th>\n",
       "      <td>True</td>\n",
       "      <td>2022-10-20</td>\n",
       "      <td>1</td>\n",
       "      <td>3.0</td>\n",
       "      <td>two</td>\n",
       "      <td>bar</td>\n",
       "    </tr>\n",
       "    <tr>\n",
       "      <th>2</th>\n",
       "      <td>True</td>\n",
       "      <td>2022-10-20</td>\n",
       "      <td>1</td>\n",
       "      <td>3.0</td>\n",
       "      <td>two</td>\n",
       "      <td>bar</td>\n",
       "    </tr>\n",
       "    <tr>\n",
       "      <th>3</th>\n",
       "      <td>True</td>\n",
       "      <td>2022-10-20</td>\n",
       "      <td>1</td>\n",
       "      <td>3.0</td>\n",
       "      <td>four</td>\n",
       "      <td>bar</td>\n",
       "    </tr>\n",
       "  </tbody>\n",
       "</table>\n",
       "</div>"
      ],
      "text/plain": [
       "   is_hungry   last_ate  something  multiply_array categories  foo\n",
       "0       True 2022-10-20          1             3.0        one  bar\n",
       "1       True 2022-10-20          1             3.0        two  bar\n",
       "2       True 2022-10-20          1             3.0        two  bar\n",
       "3       True 2022-10-20          1             3.0       four  bar"
      ]
     },
     "execution_count": 5,
     "metadata": {},
     "output_type": "execute_result"
    }
   ],
   "source": [
    "import pandas as pd \n",
    "\n",
    "dictionary_df = pd.DataFrame(\n",
    "    {\n",
    "        \"is_hungry\": True,\n",
    "        \"last_ate\": pd.Timestamp(\"20221020\"),\n",
    "        \"something\": pd.Series(1, index=list(range(4)), dtype=\"int32\"),\n",
    "        \"multiply_array\": np.array([3] * 4, dtype=\"float32\"),\n",
    "        \"categories\": pd.Categorical([\"one\", \"two\", \"two\", \"four\"]),\n",
    "        \"foo\": \"bar\"\n",
    "    }\n",
    ")\n",
    "\n",
    "dictionary_df\n",
    "\n",
    "# View the head: \n",
    "\n",
    "dictionary_df.head()\n",
    "\n",
    "# View the tail: \n",
    "\n",
    "dictionary_df.tail()\n",
    "\n"
   ]
  },
  {
   "cell_type": "code",
   "execution_count": 55,
   "id": "2350446b",
   "metadata": {},
   "outputs": [
    {
     "data": {
      "text/plain": [
       "Text(0, 0.5, 'score')"
      ]
     },
     "execution_count": 55,
     "metadata": {},
     "output_type": "execute_result"
    },
    {
     "data": {
      "image/png": "[encoded data removed]",
      "text/plain": [
       "<Figure size 640x480 with 1 Axes>"
      ]
     },
     "metadata": {},
     "output_type": "display_data"
    }
   ],
   "source": [
    "import pandas as pd \n",
    "import numpy as np \n",
    "import matplotlib.pyplot as plt \n",
    "%matplotlib inline\n",
    "\n",
    "df = pd.DataFrame(\n",
    "    {\n",
    "        \"Candidate\": [\"Alex\", \"Amy\", \"Boland\", \"Kamelia\", \"Lee\", \"Maryam\", \"Qasem\"],\n",
    "        \"University\": [\"Northumbria\", \"Newcastle\", \"Manchester\", \"Liverpool\", \"Edinburgh\", \"Belfast\", \"Birmingham\"],\n",
    "        \"Age\": [23, 24, 31, 29, 34, 41, 35],\n",
    "        \"Exam\": [73.0, 78.0, 80.0, 84.0, 72.0, 81.0, 80.0]\n",
    "    }\n",
    ")\n",
    "\n",
    "# Print the Table \n",
    "df \n",
    "\n",
    "# Print the First five entries \n",
    "df[0:5]\n",
    "df.head()\n",
    "\n",
    "# Print Last 5 Entries\n",
    "df.tail()\n",
    "\n",
    "# Print out all the entries in University Column \n",
    "df[\"University\"]\n",
    "\n",
    "# Print all entries of first row \n",
    "df.loc[0]\n",
    "\n",
    "# Print Entries in the First 3 Rows \n",
    "df.loc[0:2]\n",
    "\n",
    "# Print Data for Alex\n",
    "df[df[\"Candidate\"] == \"Alex\"]\n",
    "\n",
    "# Print Data for Information Related to Amy \n",
    "df[df[\"Candidate\"] == \"Amy\"]\n",
    "\n",
    "# Describe Age \n",
    "df[\"Age\"].describe()\n",
    "\n",
    "# Age and Exam Describe\n",
    "df.describe()\n",
    "\n",
    "# Drop University \n",
    "# df.drop(columns=\"University\")\n",
    "\n",
    "# Drop the First 3 columns\n",
    "# df.drop([0, 1, 2],  axis=0)\n",
    "\n",
    "# Plot a bar chart for exam vs candidate\n",
    "\n",
    "plt.bar(df['Candidate'], df['Exam'])\n",
    "plt.title('Exam Result')\n",
    "plt.ylabel('score')"
   ]
  },
  {
   "cell_type": "code",
   "execution_count": null,
   "id": "b35bcf01",
   "metadata": {},
   "outputs": [],
   "source": []
  },
  {
   "cell_type": "code",
   "execution_count": null,
   "id": "c9724ba1",
   "metadata": {},
   "outputs": [],
   "source": []
  },
  {
   "cell_type": "code",
   "execution_count": null,
   "id": "5322e46f",
   "metadata": {},
   "outputs": [],
   "source": []
  },
  {
   "cell_type": "code",
   "execution_count": null,
   "id": "d5280f69",
   "metadata": {},
   "outputs": [],
   "source": []
  },
  {
   "cell_type": "code",
   "execution_count": null,
   "id": "21c9b522",
   "metadata": {},
   "outputs": [],
   "source": []
  },
  {
   "cell_type": "code",
   "execution_count": null,
   "id": "f609c2cf",
   "metadata": {},
   "outputs": [],
   "source": []
  },
  {
   "cell_type": "code",
   "execution_count": null,
   "id": "34226d2c",
   "metadata": {},
   "outputs": [],
   "source": []
  },
  {
   "cell_type": "code",
   "execution_count": null,
   "id": "d9f0ed34",
   "metadata": {},
   "outputs": [],
   "source": []
  },
  {
   "cell_type": "code",
   "execution_count": null,
   "id": "674d2194",
   "metadata": {},
   "outputs": [],
   "source": []
  },
  {
   "cell_type": "code",
   "execution_count": null,
   "id": "dec984fb",
   "metadata": {},
   "outputs": [],
   "source": []
  },
  {
   "cell_type": "code",
   "execution_count": null,
   "id": "c1d47b85",
   "metadata": {},
   "outputs": [],
   "source": []
  },
  {
   "cell_type": "code",
   "execution_count": null,
   "id": "e5ea44d6",
   "metadata": {},
   "outputs": [],
   "source": []
  },
  {
   "cell_type": "code",
   "execution_count": null,
   "id": "80bf5f34",
   "metadata": {},
   "outputs": [],
   "source": []
  },
  {
   "cell_type": "code",
   "execution_count": null,
   "id": "df64ce8f",
   "metadata": {},
   "outputs": [],
   "source": []
  }
 ],
 "metadata": {
  "kernelspec": {
   "display_name": "Python 3 (ipykernel)",
   "language": "python",
   "name": "python3"
  },
  "language_info": {
   "codemirror_mode": {
    "name": "ipython",
    "version": 3
   },
   "file_extension": ".py",
   "mimetype": "text/x-python",
   "name": "python",
   "nbconvert_exporter": "python",
   "pygments_lexer": "ipython3",
   "version": "3.7.13"
  }
 },
 "nbformat": 4,
 "nbformat_minor": 5
}
